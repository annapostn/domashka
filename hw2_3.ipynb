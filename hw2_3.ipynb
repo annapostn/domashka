{
 "cells": [
  {
   "cell_type": "markdown",
   "metadata": {},
   "source": [
    "<p>Измалкова Дарья БКЛ182</p>"
   ]
  },
  {
   "cell_type": "markdown",
   "metadata": {},
   "source": [
    "<h1>Домашнее задание №2 часть 1</h1>"
   ]
  },
  {
   "cell_type": "code",
   "execution_count": 1,
   "metadata": {},
   "outputs": [],
   "source": [
    "from pymystem3 import Mystem\n",
    "import nltk\n",
    "from nltk.tokenize import word_tokenize\n",
    "from nltk.util import ngrams\n",
    "from pymorphy2 import MorphAnalyzer\n",
    "from collections import Counter\n",
    "import json\n",
    "import re\n",
    "import os\n",
    "\n",
    "\n",
    "morph = MorphAnalyzer()\n",
    "m = Mystem()"
   ]
  },
  {
   "cell_type": "code",
   "execution_count": 2,
   "metadata": {},
   "outputs": [],
   "source": [
    "with open('igrok.txt', encoding='utf-8') as f:\n",
    "    text = f.read()"
   ]
  },
  {
   "cell_type": "markdown",
   "metadata": {},
   "source": [
    "<h3>Токенизация с помощью nltk</h3>"
   ]
  },
  {
   "cell_type": "code",
   "execution_count": 3,
   "metadata": {},
   "outputs": [
    {
     "name": "stdout",
     "output_type": "stream",
     "text": [
      "Wall time: 2.03 s\n"
     ]
    }
   ],
   "source": [
    "%%time \n",
    "(word_tokenize(text))\n",
    "\n",
    "words = [w.lower() for w in word_tokenize(text) if w.isalpha()]"
   ]
  },
  {
   "cell_type": "markdown",
   "metadata": {},
   "source": [
    "<h3>Биграммы  и Триграммы</h3>"
   ]
  },
  {
   "cell_type": "code",
   "execution_count": 4,
   "metadata": {},
   "outputs": [
    {
     "name": "stdout",
     "output_type": "stream",
     "text": [
      "что я 116\n",
      "mademoiselle blanche 96\n",
      "и не 89\n",
      "может быть 75\n",
      "я не 73\n",
      "мистер астлей 69\n",
      "всё это 55\n",
      "и в 54\n",
      "потому что 51\n",
      "на меня 47\n",
      "и я 47\n",
      "что вы 47\n",
      "у меня 45\n",
      "что она 44\n",
      "тотчас же 42\n",
      "ничего не 42\n",
      "не знаю 41\n",
      "и даже 41\n",
      "ко мне 40\n",
      "алексей иванович 40\n"
     ]
    }
   ],
   "source": [
    "def find_ngrams(words, number):\n",
    "    ngram_list = list(ngrams(words, number))\n",
    "    ngrams_rank = Counter(ngram_list)\n",
    "    top_20 = ngrams_rank.most_common(20)\n",
    "    for ngram in top_20:\n",
    "        n_words = ' '.join(ngram[0])\n",
    "        frequency = ngram[1]\n",
    "        print(n_words, frequency)\n",
    "\n",
    "\n",
    "find_ngrams(words, 2)"
   ]
  },
  {
   "cell_type": "code",
   "execution_count": 5,
   "metadata": {},
   "outputs": [
    {
     "name": "stdout",
     "output_type": "stream",
     "text": [
      "по крайней мере 27\n",
      "в самом деле 18\n",
      "до сих пор 18\n",
      "пятьдесят тысяч франков 15\n",
      "к тому же 12\n",
      "даже и не 12\n",
      "и в самом 11\n",
      "может быть и 10\n",
      "о том что 10\n",
      "на этот раз 10\n",
      "что я не 10\n",
      "я ничего не 10\n",
      "во всяком случае 9\n",
      "и mademoiselle blanche 9\n",
      "что же касается 9\n",
      "же касается до 9\n",
      "и уж конечно 8\n",
      "я так и 8\n",
      "mademoiselle blanche и 8\n",
      "а между тем 8\n"
     ]
    }
   ],
   "source": [
    "find_ngrams(words, 3)"
   ]
  },
  {
   "cell_type": "markdown",
   "metadata": {},
   "source": [
    "<h3>Парсинг с помощью pymorphy</h3>"
   ]
  },
  {
   "cell_type": "code",
   "execution_count": 7,
   "metadata": {},
   "outputs": [
    {
     "name": "stdout",
     "output_type": "stream",
     "text": [
      "Wall time: 21.4 s\n"
     ]
    }
   ],
   "source": [
    "%%time\n",
    "analist = []\n",
    "\n",
    "for word in words:\n",
    "    ana = morph.parse(word)\n",
    "    first = ana[0]\n",
    "    word = first.word\n",
    "    tag = first.tag\n",
    "    lemma = first.normal_form\n",
    "    prob = first.score\n",
    "    dic = {'text' : word, 'tag' : [tag], 'lemma' : lemma, 'prob' : prob}\n",
    "    analist.append(dic)"
   ]
  },
  {
   "cell_type": "markdown",
   "metadata": {},
   "source": [
    "<h3>Доля частей речи</h3>"
   ]
  },
  {
   "cell_type": "code",
   "execution_count": 8,
   "metadata": {},
   "outputs": [
    {
     "name": "stdout",
     "output_type": "stream",
     "text": [
      "Доля None 2.69%\n",
      "Доля NOUN 18.72%\n",
      "Доля PREP 9.6%\n",
      "Доля ADJF 9.23%\n",
      "Доля ADVB 7.61%\n",
      "Доля NPRO 11.49%\n",
      "Доля VERB 13.71%\n",
      "Доля NUMR 1.05%\n",
      "Доля CONJ 12.47%\n",
      "Доля PRCL 6.89%\n",
      "Доля INFN 2.8%\n",
      "Доля INTJ 0.23%\n",
      "Доля GRND 0.8%\n",
      "Доля PRED 0.51%\n",
      "Доля COMP 0.32%\n",
      "Доля ADJS 1.03%\n",
      "Доля PRTS 0.28%\n",
      "Доля PRTF 0.58%\n"
     ]
    }
   ],
   "source": [
    "word_count = len(analist)\n",
    "poslist = []\n",
    "for parse in analist:\n",
    "    poslist.append(parse['tag'][0].POS)\n",
    "posdict = Counter(poslist)\n",
    "for pos, count in posdict.items():\n",
    "    print('Доля', pos, str(round(count/word_count * 100, 2))+'%')"
   ]
  },
  {
   "cell_type": "markdown",
   "metadata": {},
   "source": [
    "<h3>Топ-20 глаголов и наречий</h3>"
   ]
  },
  {
   "cell_type": "code",
   "execution_count": 9,
   "metadata": {
    "scrolled": true
   },
   "outputs": [
    {
     "name": "stdout",
     "output_type": "stream",
     "text": [
      "Топ-20 глаголов: ['быть', 'мочь', 'знать', 'сказать', 'хотеть', 'говорить', 'стать', 'думать', 'видеть', 'выйти', 'проиграть', 'заметить', 'дать', 'взять', 'любить', 'понимать', 'смотреть', 'отвечать', 'начать', 'выиграть']\n",
      "Топ-20 наречий: ['теперь', 'вдруг', 'уж', 'уже', 'очень', 'опять', 'здесь', 'тоже', 'тут', 'потому', 'тогда', 'почти', 'тотчас', 'наконец', 'более', 'совсем', 'потом', 'где', 'сейчас', 'действительно']\n"
     ]
    }
   ],
   "source": [
    "def top_pos(analist,tag):\n",
    "    lemmalist = []\n",
    "    for parse in analist:\n",
    "        if tag in parse['tag'][0]:\n",
    "            lemmalist.append(parse['lemma'])\n",
    "    lemmadict = Counter(lemmalist)\n",
    "    top_list = []\n",
    "    for key, value in lemmadict.most_common(20):\n",
    "        top_list.append(key)\n",
    "    return top_list\n",
    "    \n",
    "    \n",
    "print('Топ-20 глаголов:',top_pos(analist,'VERB'))\n",
    "print('Топ-20 наречий:',top_pos(analist,'ADVB'))"
   ]
  },
  {
   "cell_type": "markdown",
   "metadata": {},
   "source": [
    "<h3>Чтобы можно было отдельно вытаскивать теги, не используя встроенные функции OpencorporaTag</h3>"
   ]
  },
  {
   "cell_type": "code",
   "execution_count": 10,
   "metadata": {},
   "outputs": [
    {
     "name": "stdout",
     "output_type": "stream",
     "text": [
      "[{'text': 'annotation', 'tag': [OpencorporaTag('LATN'), {}], 'lemma': 'annotation', 'prob': 1.0}, {'text': 'роман', 'tag': [OpencorporaTag('NOUN,anim,masc,Name sing,nomn'), {'POS': 'NOUN', 'animacy': 'anim', 'case': 'nomn', 'gender': 'masc', 'number': 'sing'}], 'lemma': 'роман', 'prob': 0.08333333333333333}, {'text': 'из', 'tag': [OpencorporaTag('PREP'), {'POS': 'PREP'}], 'lemma': 'из', 'prob': 0.999661}, {'text': 'записок', 'tag': [OpencorporaTag('NOUN,inan,femn plur,gent'), {'POS': 'NOUN', 'animacy': 'inan', 'case': 'gent', 'gender': 'femn', 'number': 'plur'}], 'lemma': 'записка', 'prob': 1.0}, {'text': 'молодого', 'tag': [OpencorporaTag('ADJF,Qual neut,sing,gent'), {'POS': 'ADJF', 'case': 'gent', 'gender': 'neut', 'number': 'sing'}], 'lemma': 'молодой', 'prob': 0.625}]\n"
     ]
    }
   ],
   "source": [
    "for parse in analist:\n",
    "    new_thing = {}\n",
    "    if parse['tag'][0].POS:\n",
    "        new_thing.update({'POS':parse['tag'][0].POS})\n",
    "    if parse['tag'][0].animacy:\n",
    "        new_thing.update({'animacy':parse['tag'][0].animacy})\n",
    "    if parse['tag'][0].aspect:\n",
    "        new_thing.update({'aspect':parse['tag'][0].aspect})\n",
    "    if parse['tag'][0].case:\n",
    "        new_thing.update({'case':parse['tag'][0].case})\n",
    "    if parse['tag'][0].gender:\n",
    "        new_thing.update({'gender':parse['tag'][0].gender})\n",
    "    if parse['tag'][0].involvement:\n",
    "        new_thing.update({'involvement':parse['tag'][0].involvement})\n",
    "    if parse['tag'][0].mood:\n",
    "        new_thing.update({'mood':parse['tag'][0].mood})\n",
    "    if parse['tag'][0].number:\n",
    "        new_thing.update({'number':parse['tag'][0].number})\n",
    "    if parse['tag'][0].person:\n",
    "        new_thing.update({'person':parse['tag'][0].person})\n",
    "    if parse['tag'][0].tense:\n",
    "        new_thing.update({'tense':parse['tag'][0].tense})\n",
    "    if parse['tag'][0].transitivity:\n",
    "        new_thing.update({'transitivity':parse['tag'][0].transitivity})\n",
    "    if parse['tag'][0].voice:\n",
    "        new_thing.update({'voice':parse['tag'][0].voice})\n",
    "    parse['tag'].append(new_thing)\n",
    "\n",
    "print(analist[:5])"
   ]
  },
  {
   "cell_type": "markdown",
   "metadata": {},
   "source": [
    "<h3>Формат json не признает OpencorporaTag, поэтому переделала тег в строку и убрала \"OpencorporaTag\", оставив только непосредственно теги</h3>"
   ]
  },
  {
   "cell_type": "code",
   "execution_count": 11,
   "metadata": {},
   "outputs": [],
   "source": [
    "with open('igrok_parse.json', 'w', encoding='utf-8') as f:\n",
    "\n",
    "    for parse in analist:\n",
    "        parse['tag'][0] = str(parse['tag'][0])\n",
    "        parse['tag'][0] = re.sub(r'OpencorporaTag()', '', parse['tag'][0])\n",
    "\n",
    "        json.dump(parse, f)\n",
    "        f.write('\\n')"
   ]
  },
  {
   "cell_type": "markdown",
   "metadata": {},
   "source": [
    "<p>Проверка, что файл нормально записался</p>"
   ]
  },
  {
   "cell_type": "code",
   "execution_count": 12,
   "metadata": {},
   "outputs": [
    {
     "name": "stdout",
     "output_type": "stream",
     "text": [
      "[{'text': 'annotation', 'tag': ['LATN', {}], 'lemma': 'annotation', 'prob': 1.0}, {'text': 'роман', 'tag': ['NOUN,anim,masc,Name sing,nomn', {'POS': 'NOUN', 'animacy': 'anim', 'case': 'nomn', 'gender': 'masc', 'number': 'sing'}], 'lemma': 'роман', 'prob': 0.08333333333333333}, {'text': 'из', 'tag': ['PREP', {'POS': 'PREP'}], 'lemma': 'из', 'prob': 0.999661}, {'text': 'записок', 'tag': ['NOUN,inan,femn plur,gent', {'POS': 'NOUN', 'animacy': 'inan', 'case': 'gent', 'gender': 'femn', 'number': 'plur'}], 'lemma': 'записка', 'prob': 1.0}, {'text': 'молодого', 'tag': ['ADJF,Qual neut,sing,gent', {'POS': 'ADJF', 'case': 'gent', 'gender': 'neut', 'number': 'sing'}], 'lemma': 'молодой', 'prob': 0.625}]\n"
     ]
    }
   ],
   "source": [
    "ana_list = []\n",
    "with open('igrok_parse.json', encoding='utf-8') as f:\n",
    "    text = f.read()\n",
    "    lines = text.splitlines()\n",
    "\n",
    "for line in lines:\n",
    "    data = json.loads(line)\n",
    "    ana_list.append(data)\n",
    "\n",
    "print(ana_list[:5])"
   ]
  },
  {
   "cell_type": "code",
   "execution_count": 13,
   "metadata": {},
   "outputs": [
    {
     "name": "stdout",
     "output_type": "stream",
     "text": [
      "Wall time: 1.91 s\n"
     ]
    },
    {
     "data": {
      "text/plain": [
       "0"
      ]
     },
     "execution_count": 13,
     "metadata": {},
     "output_type": "execute_result"
    }
   ],
   "source": [
    "%%time\n",
    "import os\n",
    "\n",
    "inp = \"igrok.txt\"\n",
    "outp = \"igrok.json\"\n",
    "mystem_path = os.path.join('/Users/User', 'mystem.exe')\n",
    "\n",
    "# os.path.abspath - находит абсолютный путь\n",
    "# os.path.join - объединяет части пути до файла\n",
    "input_filename = os.path.abspath(inp)\n",
    "output_filename = os.path.abspath(outp)\n",
    "os.system(f\"{mystem_path} {'-gin'} {input_filename} {output_filename}\")"
   ]
  }
 ],
 "metadata": {
  "kernelspec": {
   "display_name": "Python 3",
   "language": "python",
   "name": "python3"
  },
  "language_info": {
   "codemirror_mode": {
    "name": "ipython",
    "version": 3
   },
   "file_extension": ".py",
   "mimetype": "text/x-python",
   "name": "python",
   "nbconvert_exporter": "python",
   "pygments_lexer": "ipython3",
   "version": "3.7.3"
  }
 },
 "nbformat": 4,
 "nbformat_minor": 2
}
